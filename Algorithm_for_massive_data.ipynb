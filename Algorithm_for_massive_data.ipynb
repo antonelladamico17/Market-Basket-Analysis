{
  "nbformat": 4,
  "nbformat_minor": 0,
  "metadata": {
    "colab": {
      "name": "Algorithm for massive data.ipynb",
      "provenance": [],
      "collapsed_sections": [
        "h007DVAztZ4h"
      ],
      "toc_visible": true,
      "include_colab_link": true
    },
    "kernelspec": {
      "display_name": "Python 3",
      "name": "python3"
    }
  },
  "cells": [
    {
      "cell_type": "markdown",
      "metadata": {
        "id": "view-in-github",
        "colab_type": "text"
      },
      "source": [
        "<a href=\"https://colab.research.google.com/github/antonelladamico17/Market-Basket-Analysis/blob/main/Algorithm_for_massive_data.ipynb\" target=\"_parent\"><img src=\"https://colab.research.google.com/assets/colab-badge.svg\" alt=\"Open In Colab\"/></a>"
      ]
    },
    {
      "cell_type": "markdown",
      "metadata": {
        "id": "OVAdEywxgTg6"
      },
      "source": [
        "#### Antonella D'Amico, Luca Romano\n",
        "## **Project of Algorithms for Massive Data**\n",
        "#### Market Bakset Analisys on IMDB dataset\n"
      ]
    },
    {
      "cell_type": "markdown",
      "metadata": {
        "id": "gJH1IVSwvEzY"
      },
      "source": [
        "# Download"
      ]
    },
    {
      "cell_type": "markdown",
      "metadata": {
        "id": "iGl5fjKTG5U-"
      },
      "source": [
        "#### Kaggle API"
      ]
    },
    {
      "cell_type": "code",
      "metadata": {
        "id": "6pz382XKtfv2"
      },
      "source": [
        "#upload kaggle.json \n",
        "\n",
        "from google.colab import files\n",
        "files.upload()"
      ],
      "execution_count": null,
      "outputs": []
    },
    {
      "cell_type": "code",
      "metadata": {
        "id": "eSI32D_pukGk"
      },
      "source": [
        "#set directory \n",
        "import os\n",
        "os.environ['KAGGLE_CONFIG_DIR'] = \"/content\""
      ],
      "execution_count": 2,
      "outputs": []
    },
    {
      "cell_type": "markdown",
      "metadata": {
        "id": "tKoeYnRWyyaw"
      },
      "source": [
        "#### Spark"
      ]
    },
    {
      "cell_type": "code",
      "metadata": {
        "colab": {
          "base_uri": "https://localhost:8080/"
        },
        "id": "EY8YAKNXQY30",
        "outputId": "3d242a8d-a62f-4b05-95bf-f9424b93405e"
      },
      "source": [
        "#Install java and spark\n",
        "!sudo apt update\n",
        "!apt-get install openjdk-8-jdk-headless -qq > /dev/null\n",
        "!wget -q http://apache.osuosl.org/spark/spark-3.1.1/spark-3.1.1-bin-hadoop3.2.tgz \n",
        "!tar xf spark-3.1.1-bin-hadoop3.2.tgz \n",
        "!pip install -q findspark"
      ],
      "execution_count": 3,
      "outputs": [
        {
          "output_type": "stream",
          "text": [
            "\u001b[33m\r0% [Working]\u001b[0m\r            \rGet:1 http://security.ubuntu.com/ubuntu bionic-security InRelease [88.7 kB]\n",
            "Get:2 https://cloud.r-project.org/bin/linux/ubuntu bionic-cran40/ InRelease [3,626 B]\n",
            "Ign:3 https://developer.download.nvidia.com/compute/cuda/repos/ubuntu1804/x86_64  InRelease\n",
            "Get:4 http://ppa.launchpad.net/c2d4u.team/c2d4u4.0+/ubuntu bionic InRelease [15.9 kB]\n",
            "Hit:5 http://archive.ubuntu.com/ubuntu bionic InRelease\n",
            "Ign:6 https://developer.download.nvidia.com/compute/machine-learning/repos/ubuntu1804/x86_64  InRelease\n",
            "Get:7 https://developer.download.nvidia.com/compute/cuda/repos/ubuntu1804/x86_64  Release [697 B]\n",
            "Hit:8 https://developer.download.nvidia.com/compute/machine-learning/repos/ubuntu1804/x86_64  Release\n",
            "Get:9 https://developer.download.nvidia.com/compute/cuda/repos/ubuntu1804/x86_64  Release.gpg [836 B]\n",
            "Get:10 http://archive.ubuntu.com/ubuntu bionic-updates InRelease [88.7 kB]\n",
            "Get:11 https://cloud.r-project.org/bin/linux/ubuntu bionic-cran40/ Packages [61.8 kB]\n",
            "Hit:12 http://ppa.launchpad.net/cran/libgit2/ubuntu bionic InRelease\n",
            "Get:13 http://security.ubuntu.com/ubuntu bionic-security/main amd64 Packages [2,185 kB]\n",
            "Get:14 http://archive.ubuntu.com/ubuntu bionic-backports InRelease [74.6 kB]\n",
            "Get:15 http://ppa.launchpad.net/deadsnakes/ppa/ubuntu bionic InRelease [15.9 kB]\n",
            "Get:16 http://security.ubuntu.com/ubuntu bionic-security/universe amd64 Packages [1,415 kB]\n",
            "Get:17 http://security.ubuntu.com/ubuntu bionic-security/restricted amd64 Packages [450 kB]\n",
            "Get:19 http://ppa.launchpad.net/graphics-drivers/ppa/ubuntu bionic InRelease [21.3 kB]\n",
            "Ign:20 https://developer.download.nvidia.com/compute/cuda/repos/ubuntu1804/x86_64  Packages\n",
            "Get:20 https://developer.download.nvidia.com/compute/cuda/repos/ubuntu1804/x86_64  Packages [800 kB]\n",
            "Get:21 http://ppa.launchpad.net/c2d4u.team/c2d4u4.0+/ubuntu bionic/main Sources [1,772 kB]\n",
            "Get:22 http://archive.ubuntu.com/ubuntu bionic-updates/universe amd64 Packages [2,184 kB]\n",
            "Get:23 http://archive.ubuntu.com/ubuntu bionic-updates/restricted amd64 Packages [481 kB]\n",
            "Get:24 http://archive.ubuntu.com/ubuntu bionic-updates/main amd64 Packages [2,619 kB]\n",
            "Get:25 http://archive.ubuntu.com/ubuntu bionic-updates/multiverse amd64 Packages [33.5 kB]\n",
            "Get:26 http://ppa.launchpad.net/c2d4u.team/c2d4u4.0+/ubuntu bionic/main amd64 Packages [906 kB]\n",
            "Get:27 http://ppa.launchpad.net/deadsnakes/ppa/ubuntu bionic/main amd64 Packages [40.9 kB]\n",
            "Get:28 http://ppa.launchpad.net/graphics-drivers/ppa/ubuntu bionic/main amd64 Packages [41.6 kB]\n",
            "Fetched 13.3 MB in 3s (3,921 kB/s)\n",
            "Reading package lists... Done\n",
            "Building dependency tree       \n",
            "Reading state information... Done\n",
            "48 packages can be upgraded. Run 'apt list --upgradable' to see them.\n"
          ],
          "name": "stdout"
        }
      ]
    },
    {
      "cell_type": "code",
      "metadata": {
        "id": "l9q2HW3jT4No"
      },
      "source": [
        "import os\n",
        "os.environ[\"JAVA_HOME\"] = \"/usr/lib/jvm/java-8-openjdk-amd64\"\n",
        "os.environ[\"SPARK_HOME\"] = \"/content/spark-3.1.1-bin-hadoop3.2\""
      ],
      "execution_count": 4,
      "outputs": []
    },
    {
      "cell_type": "code",
      "metadata": {
        "colab": {
          "base_uri": "https://localhost:8080/"
        },
        "id": "gxgsQZTp1aju",
        "outputId": "f6494eac-f6fa-48f5-9996-c4f4ff974b27"
      },
      "source": [
        "!pip install pyspark"
      ],
      "execution_count": 5,
      "outputs": [
        {
          "output_type": "stream",
          "text": [
            "Collecting pyspark\n",
            "\u001b[?25l  Downloading https://files.pythonhosted.org/packages/89/db/e18cfd78e408de957821ec5ca56de1250645b05f8523d169803d8df35a64/pyspark-3.1.2.tar.gz (212.4MB)\n",
            "\u001b[K     |████████████████████████████████| 212.4MB 61kB/s \n",
            "\u001b[?25hCollecting py4j==0.10.9\n",
            "\u001b[?25l  Downloading https://files.pythonhosted.org/packages/9e/b6/6a4fb90cd235dc8e265a6a2067f2a2c99f0d91787f06aca4bcf7c23f3f80/py4j-0.10.9-py2.py3-none-any.whl (198kB)\n",
            "\u001b[K     |████████████████████████████████| 204kB 17.9MB/s \n",
            "\u001b[?25hBuilding wheels for collected packages: pyspark\n",
            "  Building wheel for pyspark (setup.py) ... \u001b[?25l\u001b[?25hdone\n",
            "  Created wheel for pyspark: filename=pyspark-3.1.2-py2.py3-none-any.whl size=212880768 sha256=ca6ba53f0f6279434b5894eb6c8916569cafabd4c849e00a2afad65fd0f0fb97\n",
            "  Stored in directory: /root/.cache/pip/wheels/40/1b/2c/30f43be2627857ab80062bef1527c0128f7b4070b6b2d02139\n",
            "Successfully built pyspark\n",
            "Installing collected packages: py4j, pyspark\n",
            "Successfully installed py4j-0.10.9 pyspark-3.1.2\n"
          ],
          "name": "stdout"
        }
      ]
    },
    {
      "cell_type": "code",
      "metadata": {
        "colab": {
          "base_uri": "https://localhost:8080/"
        },
        "id": "PDhJIHDfUSxx",
        "outputId": "fbf4418a-8108-4a07-fcc8-a6c11df5d792"
      },
      "source": [
        "# Check the pyspark version\n",
        "import pyspark\n",
        "print(pyspark.__version__)"
      ],
      "execution_count": 6,
      "outputs": [
        {
          "output_type": "stream",
          "text": [
            "3.1.2\n"
          ],
          "name": "stdout"
        }
      ]
    },
    {
      "cell_type": "code",
      "metadata": {
        "id": "QrMRAUrPy3fB"
      },
      "source": [
        "# Pyspark's functions import\n",
        "from pyspark.sql import functions as f\n",
        "from pyspark import SparkContext, SparkConf\n",
        "from pyspark.sql.functions import collect_set, col\n",
        "from pyspark import StorageLevel\n",
        "from pyspark.ml.fpm import FPGrowth"
      ],
      "execution_count": 7,
      "outputs": []
    },
    {
      "cell_type": "code",
      "metadata": {
        "id": "KiRbomwzT_82"
      },
      "source": [
        "import findspark\n",
        "findspark.init()"
      ],
      "execution_count": 8,
      "outputs": []
    },
    {
      "cell_type": "code",
      "metadata": {
        "id": "sDQXDhwSx9K2"
      },
      "source": [
        "#initialize spark context object\n",
        "from pyspark.sql import SparkSession\n",
        "from pyspark.conf import SparkConf\n",
        "conf = SparkConf().setAppName(\"mba\")\n",
        "spark = SparkSession.builder.enableHiveSupport().config(conf = conf).getOrCreate()\n",
        "sc = spark.sparkContext"
      ],
      "execution_count": 9,
      "outputs": []
    },
    {
      "cell_type": "markdown",
      "metadata": {
        "id": "E9I9MT1rznJb"
      },
      "source": [
        "#### Data Import"
      ]
    },
    {
      "cell_type": "code",
      "metadata": {
        "colab": {
          "base_uri": "https://localhost:8080/"
        },
        "id": "jSctNMXTu5kx",
        "outputId": "9dc57524-13d4-4ed9-fe0e-1114b955021a"
      },
      "source": [
        "#Download the IMDB dataset from kaggle using the json file uploaded before\n",
        "!chmod 600 /content/kaggle.json\n",
        "!kaggle datasets download -d ashirwadsangwan/imdb-dataset"
      ],
      "execution_count": 10,
      "outputs": [
        {
          "output_type": "stream",
          "text": [
            "Downloading imdb-dataset.zip to /content\n",
            "100% 1.44G/1.44G [00:12<00:00, 105MB/s] \n",
            "100% 1.44G/1.44G [00:12<00:00, 124MB/s]\n"
          ],
          "name": "stdout"
        }
      ]
    },
    {
      "cell_type": "code",
      "metadata": {
        "colab": {
          "base_uri": "https://localhost:8080/"
        },
        "id": "j5Rom1B8vKEZ",
        "outputId": "263acea1-942a-48e8-e915-a9151ea444e6"
      },
      "source": [
        "#unzip the file and remove the zip\n",
        "!unzip \\*.zip && rm *.zip  "
      ],
      "execution_count": 11,
      "outputs": [
        {
          "output_type": "stream",
          "text": [
            "Archive:  imdb-dataset.zip\n",
            "  inflating: name.basics.tsv.gz      \n",
            "  inflating: name.basics.tsv/name.basics.tsv  \n",
            "  inflating: title.akas.tsv.gz       \n",
            "  inflating: title.akas.tsv/title.akas.tsv  \n",
            "  inflating: title.basics.tsv.gz     \n",
            "  inflating: title.basics.tsv/title.basics.tsv  \n",
            "  inflating: title.principals.tsv.gz  \n",
            "  inflating: title.principals.tsv/title.principals.tsv  \n",
            "  inflating: title.ratings.tsv.gz    \n",
            "  inflating: title.ratings.tsv/title.ratings.tsv  \n"
          ],
          "name": "stdout"
        }
      ]
    },
    {
      "cell_type": "code",
      "metadata": {
        "id": "-kwCrCewLmK4"
      },
      "source": [
        "# loading into spark\n",
        "titlePrincipals = spark.read.csv(\"/content/title.principals.tsv/title.principals.tsv\", sep = \"\\t\", inferSchema=\"true\", header=\"true\")\n",
        "titleBasics = spark.read.csv(\"/content/title.basics.tsv/title.basics.tsv\", sep= \"\\t\", inferSchema= \"true\", header=\"true\")"
      ],
      "execution_count": 12,
      "outputs": []
    },
    {
      "cell_type": "code",
      "metadata": {
        "id": "Mavy9nD9l3Yj"
      },
      "source": [
        "# creating views for SQL querying \n",
        "titlePrincipals.createOrReplaceTempView(\"titlePrincipals\")\n",
        "titleBasics.createOrReplaceTempView(\"titleBasics\")"
      ],
      "execution_count": 13,
      "outputs": []
    },
    {
      "cell_type": "markdown",
      "metadata": {
        "id": "IoAGBGLb8UZG"
      },
      "source": [
        "# Preprocessing"
      ]
    },
    {
      "cell_type": "code",
      "metadata": {
        "colab": {
          "base_uri": "https://localhost:8080/"
        },
        "id": "7XPHwFrV8b9a",
        "outputId": "aa1dc06e-b5c7-4247-b367-1e252c33898f"
      },
      "source": [
        "# titlePrincipals filtered over column category to extract actors and actresses\n",
        "actor = \"\"\" SELECT *\n",
        "            FROM titlePrincipals\n",
        "            WHERE (category = 'actor') OR (category = 'actress')\n",
        "        \"\"\"\n",
        "actor = spark.sql(actor)\n",
        "actor.show(5)"
      ],
      "execution_count": 14,
      "outputs": [
        {
          "output_type": "stream",
          "text": [
            "+---------+--------+---------+--------+---+----------------+\n",
            "|   tconst|ordering|   nconst|category|job|      characters|\n",
            "+---------+--------+---------+--------+---+----------------+\n",
            "|tt0000005|       1|nm0443482|   actor| \\N|  [\"Blacksmith\"]|\n",
            "|tt0000005|       2|nm0653042|   actor| \\N|   [\"Assistant\"]|\n",
            "|tt0000007|       1|nm0179163|   actor| \\N|              \\N|\n",
            "|tt0000007|       2|nm0183947|   actor| \\N|              \\N|\n",
            "|tt0000008|       1|nm0653028|   actor| \\N|[\"Sneezing Man\"]|\n",
            "+---------+--------+---------+--------+---+----------------+\n",
            "only showing top 5 rows\n",
            "\n"
          ],
          "name": "stdout"
        }
      ]
    },
    {
      "cell_type": "code",
      "metadata": {
        "colab": {
          "base_uri": "https://localhost:8080/"
        },
        "id": "5TdL-_Sd9Xj-",
        "outputId": "a98500ae-32e7-4271-951e-1a5dd48f74b0"
      },
      "source": [
        "# titleBasics filtered over column titleType to extract only movies\n",
        "movie = \"\"\" SELECT *\n",
        "            FROM titleBasics\n",
        "            WHERE titleType = 'movie'\n",
        "        \"\"\"\n",
        "movie = spark.sql(movie)\n",
        "movie.show(5)"
      ],
      "execution_count": 15,
      "outputs": [
        {
          "output_type": "stream",
          "text": [
            "+---------+---------+--------------------+--------------------+-------+---------+-------+--------------+--------------------+\n",
            "|   tconst|titleType|        primaryTitle|       originalTitle|isAdult|startYear|endYear|runtimeMinutes|              genres|\n",
            "+---------+---------+--------------------+--------------------+-------+---------+-------+--------------+--------------------+\n",
            "|tt0000009|    movie|          Miss Jerry|          Miss Jerry|      0|     1894|     \\N|            45|             Romance|\n",
            "|tt0000147|    movie|The Corbett-Fitzs...|The Corbett-Fitzs...|      0|     1897|     \\N|            20|Documentary,News,...|\n",
            "|tt0000335|    movie|Soldiers of the C...|Soldiers of the C...|      0|     1900|     \\N|            \\N|     Biography,Drama|\n",
            "|tt0000502|    movie|            Bohemios|            Bohemios|      0|     1905|     \\N|           100|                  \\N|\n",
            "|tt0000574|    movie|The Story of the ...|The Story of the ...|      0|     1906|     \\N|            70|Biography,Crime,D...|\n",
            "+---------+---------+--------------------+--------------------+-------+---------+-------+--------------+--------------------+\n",
            "only showing top 5 rows\n",
            "\n"
          ],
          "name": "stdout"
        }
      ]
    },
    {
      "cell_type": "code",
      "metadata": {
        "colab": {
          "base_uri": "https://localhost:8080/"
        },
        "id": "8cHCOXcD-te1",
        "outputId": "5c4a64e8-a2f7-4dc5-b152-e2b7f19dc292"
      },
      "source": [
        "# Baskets \n",
        "query = \"\"\" SELECT tp.tconst, tp.nconst\n",
        "            FROM titlePrincipals AS tp LEFT JOIN titleBasics as tb ON tp.tconst == tb.tconst                       \n",
        "            WHERE (tp.category == 'actor' OR tp.category == 'actress')  AND tb.titleType == 'movie'\n",
        "            \"\"\"\n",
        "data = spark.sql(query)\n",
        "baskets = data.groupBy('tconst').agg(collect_set('nconst').alias('nconst'))\n",
        "baskets.createOrReplaceTempView('baskets')\n",
        "baskets.show(5)"
      ],
      "execution_count": 17,
      "outputs": [
        {
          "output_type": "stream",
          "text": [
            "+---------+--------------------+\n",
            "|   tconst|              nconst|\n",
            "+---------+--------------------+\n",
            "|tt0002591|[nm0029806, nm050...|\n",
            "|tt0003689|[nm0910564, nm052...|\n",
            "|tt0004272|[nm0368875, nm009...|\n",
            "|tt0004336|[nm0268437, nm081...|\n",
            "|tt0005209|[nm0593671, nm039...|\n",
            "+---------+--------------------+\n",
            "only showing top 5 rows\n",
            "\n"
          ],
          "name": "stdout"
        }
      ]
    },
    {
      "cell_type": "code",
      "metadata": {
        "colab": {
          "base_uri": "https://localhost:8080/"
        },
        "id": "yw-VZ3J9DSHk",
        "outputId": "e5ae575e-8285-409f-d377-2ee550874324"
      },
      "source": [
        "#create RDD actors_basket which takes only the list of actors without taking into account the title of the film\n",
        "actors_baskets = baskets.select('nconst').rdd.flatMap(list) \n",
        "print(actors_baskets.collect()[:3])"
      ],
      "execution_count": 18,
      "outputs": [
        {
          "output_type": "stream",
          "text": [
            "[['nm0029806', 'nm0509573'], ['nm0910564', 'nm0527801', 'nm0399988', 'nm0101071', 'nm0694718', 'nm0728289', 'nm0585503'], ['nm0368875', 'nm0092665', 'nm0492302', 'nm0445507', 'nm0776747', 'nm0383278', 'nm0192062', 'nm0285643', 'nm0793189']]\n"
          ],
          "name": "stdout"
        }
      ]
    },
    {
      "cell_type": "markdown",
      "metadata": {
        "id": "_Xh48tYBa2CE"
      },
      "source": [
        "# A Priori"
      ]
    },
    {
      "cell_type": "code",
      "metadata": {
        "id": "vYA0J86EWTQf"
      },
      "source": [
        "from itertools import combinations, product\n",
        "import pandas as pd\n",
        "import matplotlib.pyplot as plt\n",
        "import collections\n",
        "import time"
      ],
      "execution_count": null,
      "outputs": []
    },
    {
      "cell_type": "markdown",
      "metadata": {
        "id": "UN71oV6HJRnK"
      },
      "source": [
        "#### A priori function"
      ]
    },
    {
      "cell_type": "code",
      "metadata": {
        "id": "rshw92Bpb8cO"
      },
      "source": [
        "#define a function that generates singletons from an rdd of couples, triples etc. \n",
        "#returns the singletons and their occurrencies\n",
        "def create_singletons (rdd): \n",
        "  #generates a list of actors, map them to 1 to initialize the counter for each \n",
        "  #actor and update the counter for every occurrence\n",
        "  singletons = rdd.flatMap(list) \\\n",
        "                  .map(lambda item: (item, 1)) \\\n",
        "                  .reduceByKey(lambda x, y: x+y)\n",
        "  return(singletons)"
      ],
      "execution_count": null,
      "outputs": []
    },
    {
      "cell_type": "code",
      "metadata": {
        "id": "PT-2_vT4b-Mk"
      },
      "source": [
        "#define a function that takes an rdd (items) containing the result of the \n",
        "#function apriori at step i-1, and the index i which indicates the size of the \n",
        "#combinations of actors (starts from i=3 for triples and so on). The function\n",
        "#generates the singletons from \"items\" and evaluate the carthesian product \n",
        "#between \"items\" and the singletons.\n",
        "#returns the combinations which have size = i removing every possible permutation\n",
        "\n",
        "def new_combinations(items, i):\n",
        "  #removes the counter from each item. each item in items is in the form \n",
        "  #example: ((actor1, actor2),2)\n",
        "  items = items.map(lambda item: list(item[0])) \n",
        "  #generate singletons from each item in items\n",
        "  singleton = create_singletons(items).map(lambda item: [item[0]]) \n",
        "  #initialize an empty list that will contain the new possible combinations\n",
        "  items_set = [] \n",
        "  #for cicle generates the new combinations using the carthesian product between \n",
        "  #items and singletons. the result will be like [[item],[singleton]]\n",
        "  for comb in list(product(items.toLocalIterator(), singleton.toLocalIterator())): \n",
        "    #merges the two lists into a \"new item\" with form \"new item\"=[item, singleton]\n",
        "    comb = comb[0]+comb[1] \n",
        "    #takes the set of each combination and orders it to prevent permutations to\n",
        "    #be counted as different item and to remove the repetitions of actors\n",
        "    comb_set = sorted(set().union(comb))\n",
        "    #if the set have size == i and was not already included in items_set\n",
        "    #then it is added to items_set\n",
        "    if (len(comb_set) == i) and comb_set not in items_set: \n",
        "        items_set.append(comb_set) #popoliamo items_set\n",
        "  return(items_set)"
      ],
      "execution_count": null,
      "outputs": []
    },
    {
      "cell_type": "code",
      "metadata": {
        "id": "PaJP4UbHjhJi"
      },
      "source": [
        "#define the apriori function, takes as parameters an rdd of baskets (just the \n",
        "#actors) and the minumum support (threshold) to evaluate the frequent pairs, \n",
        "#triples etc. \n",
        "#returns an rdd (support) containing all the frequent items and their occurrencies\n",
        "\n",
        "def apriori(actor_baskets, threshold): \n",
        "  #generate singletons \n",
        "  singleton = create_singletons(actor_baskets) \\\n",
        "              .filter(lambda item: item[1] >= threshold) \\\n",
        "              .map(lambda item: (item[0])) \n",
        "  #find the possible pairs            \n",
        "  possible_combinations = list(combinations(singleton.toLocalIterator(),2)) \n",
        "  #initialize support as empty rdd\n",
        "  support = sc.parallelize([]) \n",
        "  #cache the rdd for better perfomance, it is reused multiple times\n",
        "  actor_baskets.cache()\n",
        "  i=3 #starts at 3 since we already found the pairs\n",
        "  #cicles until possible combinations are found\n",
        "  while len(possible_combinations)>0: \n",
        "    #chek whether the possible items are frequent in the dataset\n",
        "    frequent_items = actor_baskets.flatMap(lambda cast: [(tuple(item), 1) for item in possible_combinations if set(list(item)).issubset(set(cast))]) \\\n",
        "                    .reduceByKey(lambda x, y: x+y) \\\n",
        "                    .filter(lambda item: item[1] >= threshold)\n",
        "    #add the frequent items and their occurrencies to support rdd\n",
        "    support = support.union(frequent_items) \n",
        "    #generates new items from the last frequent items found using the function defined above\n",
        "    possible_combinations = new_combinations(frequent_items, i) \n",
        "    #increment i\n",
        "    i += 1  \n",
        "    \n",
        "  #remove actor_baskets from cache\n",
        "  actor_baskets.unpersist()\n",
        "  return (support)"
      ],
      "execution_count": null,
      "outputs": []
    },
    {
      "cell_type": "markdown",
      "metadata": {
        "id": "gCEM1lbMhfZP"
      },
      "source": [
        "#### Results"
      ]
    },
    {
      "cell_type": "code",
      "metadata": {
        "colab": {
          "base_uri": "https://localhost:8080/"
        },
        "id": "L9y8sMekLDur",
        "outputId": "741fe9cd-fb87-4e53-adb0-2e9c2c0483c6"
      },
      "source": [
        "#compute the Minimum Support using 0.0003 as fraction of the number of baskets\n",
        "#in order for pairs, triple etc. to be considered frequent \n",
        "count = actors_baskets.count()\n",
        "threshold = count*0.0003\n",
        "print(count, threshold)"
      ],
      "execution_count": null,
      "outputs": [
        {
          "output_type": "stream",
          "text": [
            "393654 118.0962\n"
          ],
          "name": "stdout"
        }
      ]
    },
    {
      "cell_type": "code",
      "metadata": {
        "colab": {
          "background_save": true
        },
        "id": "t0t45RokT0UT",
        "outputId": "70732eac-714c-4daf-b20e-05c005da51e7"
      },
      "source": [
        "#Output of A-Priori on all baskets with 119 as minimum support\n",
        "print(apriori(actors_baskets, threshold).collect())"
      ],
      "execution_count": null,
      "outputs": [
        {
          "output_type": "stream",
          "text": [
            "[(('nm0623427', 'nm0006982'), 237), (('nm0006982', 'nm0619779'), 122), (('nm0006982', 'nm0419653'), 162), (('nm0046850', 'nm0006982'), 169), (('nm2082516', 'nm0648803'), 147), (('nm2373718', 'nm0648803'), 126)]\n"
          ],
          "name": "stdout"
        }
      ]
    },
    {
      "cell_type": "code",
      "metadata": {
        "id": "yCBH8xjvjLrl"
      },
      "source": [
        "#SAMPLING for ratio threshold over time\n",
        "#the output is given by considering a sample of baskets with size 25% of the\n",
        "#total. we aim at analyzing the time behaviour of the algorithm by varying the \n",
        "#minimum support.\n",
        "\n",
        "#generate the sample\n",
        "sample = actors_baskets.sample(False, 0.25, seed = 11) \n",
        "#intialize a list which will contain the elaped time for each threshold\n",
        "elapsed = []\n",
        "#initialize a list which will contain the frequent items for each threshold \n",
        "frequent = []\n",
        "#save the number of baskets after the sampling to compute the minimum support \n",
        "count = sample.count()\n",
        "#will contain the support size in the format t*0,0001\n",
        "threshold_ap = [] \n",
        "for t in range(3,9):\n",
        "  #save the start time\n",
        "  start = time.time() \n",
        "  #compute the support size\n",
        "  threshold_i = t*0.0001 \n",
        "  threshold_ap.append(threshold_i) \n",
        "  #perform apriori on the sample using as support threshold_i*count and collects\n",
        "  #the frequent items\n",
        "  frequent.append(list(apriori(sample, threshold_i*count).collect()))\n",
        "  #saves the end time \n",
        "  end = time.time()\n",
        "  #evaluate the elapsed time \n",
        "  interval = end - start\n",
        "  elapsed.append(interval) \n",
        "  \n"
      ],
      "execution_count": null,
      "outputs": []
    },
    {
      "cell_type": "code",
      "metadata": {
        "colab": {
          "base_uri": "https://localhost:8080/",
          "height": 295
        },
        "id": "6vNTcSVJyc_m",
        "outputId": "38e3c3ca-c955-4152-a6ff-e68201da1fa4"
      },
      "source": [
        "#apriori plot for threshold size between 0.0003 and 0.0008 on 25% size sample\n",
        "\n",
        "time_threshold_ratio = pd.DataFrame()\n",
        "time_threshold_ratio['Elapsed_time'] = elapsed\n",
        "time_threshold_ratio['Threshold'] = threshold_ap\n",
        "plt.plot(time_threshold_ratio['Threshold'], time_threshold_ratio['Elapsed_time'],\n",
        "         label = 'A-Priori algorithm', color = '#006400')\n",
        "plt.xlabel('Threshold')\n",
        "plt.ylabel('Elapsed time in seconds')\n",
        "plt.savefig('time_threshold_ratio.jpg')\n",
        "plt.legend()\n",
        "plt.title('Time/Threshold')\n",
        "plt.show()"
      ],
      "execution_count": null,
      "outputs": [
        {
          "output_type": "display_data",
          "data": {
            "image/png": "[encoded data removed]",
            "text/plain": [
              "<Figure size 432x288 with 1 Axes>"
            ]
          },
          "metadata": {
            "tags": [],
            "needs_background": "light"
          }
        }
      ]
    },
    {
      "cell_type": "code",
      "metadata": {
        "id": "E44fVvhooBq8"
      },
      "source": [
        "#SAMPLING for ratio size over time with fixed threshold 0.0003\n",
        "\n",
        "elapsed2 = [] \n",
        "frequent2 = []\n",
        "for t in range(1,4): \n",
        "  print(t) \n",
        "  start = time.time()\n",
        "  #compute the sample for each cycle\n",
        "  sample = actors_baskets.sample(False, t/10, seed = 11) \n",
        "  count = sample.count()\n",
        "  #compute apriori on the sample with 0.0003*number of baskets in the sample as minimum support\n",
        "  frequent = list(apriori(sample, 0.0003*count).collect()) \n",
        "  frequent2.append(frequent) \n",
        "  #save end time\n",
        "  end = time.time()\n",
        "  #compute end time\n",
        "  interval = end - start\n",
        "  elapsed2.append(interval) "
      ],
      "execution_count": null,
      "outputs": []
    },
    {
      "cell_type": "code",
      "metadata": {
        "id": "8roxyOEloGMQ",
        "colab": {
          "base_uri": "https://localhost:8080/",
          "height": 295
        },
        "outputId": "5febf6c2-a146-452a-85e0-84a77d075fdf"
      },
      "source": [
        "#plot time over number of baskets with fixed threshold\n",
        "time_size_ratio = pd.DataFrame()\n",
        "time_size_ratio['Elapsed_time'] = elapsed2\n",
        "time_size_ratio['Size'] = range(1,4)\n",
        "time_size_ratio['Size'] = time_size_ratio['Size'].div(10) #size is fraction 0.10-0.50 -> 10%-50% of the total\n",
        "plt.plot(time_size_ratio['Size'], time_size_ratio['Elapsed_time'], label = 'A-Priori algorithm', color = '#006400')\n",
        "plt.xlabel('Sample size fraction')\n",
        "plt.ylabel('Elapsed time in seconds')\n",
        "plt.savefig('time_size_ratio1.jpg')\n",
        "plt.legend()\n",
        "plt.title('Time/Size, th = 0.0003')\n",
        "plt.show()"
      ],
      "execution_count": null,
      "outputs": [
        {
          "output_type": "display_data",
          "data": {
            "image/png": "[encoded data removed]",
            "text/plain": [
              "<Figure size 432x288 with 1 Axes>"
            ]
          },
          "metadata": {
            "tags": [],
            "needs_background": "light"
          }
        }
      ]
    },
    {
      "cell_type": "markdown",
      "metadata": {
        "id": "hFrZJm8dQZF1"
      },
      "source": [
        "# FP - Growth"
      ]
    },
    {
      "cell_type": "code",
      "metadata": {
        "id": "YByf3CimQlqp",
        "colab": {
          "base_uri": "https://localhost:8080/"
        },
        "outputId": "5d4519cf-dfbd-4752-b6cc-4161b14ebdbe"
      },
      "source": [
        "#import fp-growth and compute it on all baskets \n",
        "start_compl = time.time()\n",
        "fpG_compl = FPGrowth(itemsCol=\"nconst\", minSupport=0.0003)\n",
        "start_compl = time.time()\n",
        "fpG_compl = fpG_compl.fit(baskets)\n",
        "print(time.time() - start_compl)"
      ],
      "execution_count": null,
      "outputs": [
        {
          "output_type": "stream",
          "text": [
            "229.64582204818726\n"
          ],
          "name": "stdout"
        }
      ]
    },
    {
      "cell_type": "code",
      "metadata": {
        "id": "zTkm-_dER_p3",
        "colab": {
          "base_uri": "https://localhost:8080/"
        },
        "outputId": "be2479f5-c089-4113-ab48-2dc0530d3023"
      },
      "source": [
        "#print first 10 frequent items\n",
        "fpG_compl.freqItemsets.show(10)"
      ],
      "execution_count": null,
      "outputs": [
        {
          "output_type": "stream",
          "text": [
            "+-----------+----+\n",
            "|      items|freq|\n",
            "+-----------+----+\n",
            "|[nm1388202]| 153|\n",
            "|[nm0430646]| 120|\n",
            "|[nm0103977]| 798|\n",
            "|[nm0006982]| 585|\n",
            "|[nm0436922]| 152|\n",
            "|[nm0408381]| 120|\n",
            "|[nm0648803]| 565|\n",
            "|[nm0405977]| 152|\n",
            "|[nm0576495]| 120|\n",
            "|[nm0579663]| 120|\n",
            "+-----------+----+\n",
            "only showing top 10 rows\n",
            "\n"
          ],
          "name": "stdout"
        }
      ]
    },
    {
      "cell_type": "code",
      "metadata": {
        "id": "2LgF3t96czz5"
      },
      "source": [
        "#create SQL view for querying\n",
        "fpG_compl = fpG_compl.freqItemsets\n",
        "fpG_compl.createOrReplaceTempView(\"fpG_compl\")"
      ],
      "execution_count": null,
      "outputs": []
    },
    {
      "cell_type": "code",
      "metadata": {
        "id": "51eoe_HPc4tg",
        "colab": {
          "base_uri": "https://localhost:8080/"
        },
        "outputId": "e418ac68-310f-4464-d4bb-1e3ae10e0fa5"
      },
      "source": [
        "q = \"\"\"SELECT *\n",
        "       FROM fpG_compl\n",
        "       WHERE size(items) >= 2\n",
        "       ORDER BY freq DESC\n",
        "    \"\"\"\n",
        "spark.sql(q).show(10)"
      ],
      "execution_count": null,
      "outputs": [
        {
          "output_type": "stream",
          "text": [
            "+--------------------+----+\n",
            "|               items|freq|\n",
            "+--------------------+----+\n",
            "|[nm0623427, nm000...| 237|\n",
            "|[nm0046850, nm000...| 169|\n",
            "|[nm0419653, nm000...| 162|\n",
            "|[nm2082516, nm064...| 147|\n",
            "|[nm2373718, nm064...| 126|\n",
            "|[nm0619779, nm000...| 122|\n",
            "+--------------------+----+\n",
            "\n"
          ],
          "name": "stdout"
        }
      ]
    },
    {
      "cell_type": "code",
      "metadata": {
        "id": "FIpyTf5o69up"
      },
      "source": [
        "#compute fp-growth algorithm's time elapsed with different thresholds\n",
        "time_fpG = []\n",
        "threshold_fpG = []\n",
        "sample_fpG = baskets.sample(False, 0.25, seed = 11) \n",
        "for t in range(3,9):\n",
        "  start = time.time()\n",
        "  threshold_j = t*0.0001\n",
        "  fpG = FPGrowth(itemsCol=\"nconst\", minSupport = threshold_j)\n",
        "  fpG = fpG.fit(sample_fpG)\n",
        "  threshold_fpG.append(threshold_j)\n",
        "  end = time.time()\n",
        "  interval = end - start\n",
        "  time_fpG.append(interval)"
      ],
      "execution_count": null,
      "outputs": []
    },
    {
      "cell_type": "code",
      "metadata": {
        "colab": {
          "base_uri": "https://localhost:8080/",
          "height": 295
        },
        "id": "Fo9VUs0Cjs1w",
        "outputId": "c82dde5c-24bc-4e91-e906-ba6878533820"
      },
      "source": [
        "#Plot performances of Apriori and FP-Growth by varying thresholds both on 25% sample size baskets  \n",
        "x_ap = threshold_ap\n",
        "y_ap = elapsed\n",
        "plt.plot(x_ap, y_ap,\n",
        "         label=\"A-Priori Algorithm\",\n",
        "         color = '#006400')\n",
        "\n",
        "x_fpG = threshold_fpG\n",
        "y_fpG = time_fpG\n",
        "plt.plot(x_fpG, y_fpG,\n",
        "         label=\"FP-Growth Algorithm\",\n",
        "         color = '#BDB76B')\n",
        "\n",
        "plt.xlabel(\"Threshold\")\n",
        "plt.ylabel(\"Time in seconds\")\n",
        "plt.title('A-Priori vs Fp-Growth algorithm')\n",
        "\n",
        "leg = plt.legend()\n",
        "plt.savefig(\"Apriori vs fp time threshold\")\n",
        "plt.show()"
      ],
      "execution_count": null,
      "outputs": [
        {
          "output_type": "display_data",
          "data": {
            "image/png": "[encoded data removed]",
            "text/plain": [
              "<Figure size 432x288 with 1 Axes>"
            ]
          },
          "metadata": {
            "tags": [],
            "needs_background": "light"
          }
        }
      ]
    },
    {
      "cell_type": "code",
      "metadata": {
        "id": "aa9Rt2JELLiT"
      },
      "source": [
        "#Measure time-sample size relation in FP-growth \n",
        "time_fpG = []\n",
        "threshold_fpG = []\n",
        "for t in range(1,4):\n",
        "  start = time.time()\n",
        "  sample_fpG = baskets.sample(False, t/10, seed = 11) \n",
        "  fpG = FPGrowth(itemsCol=\"nconst\", minSupport = 0.0003)\n",
        "  fpG = fpG.fit(sample_fpG)\n",
        "  end = time.time()\n",
        "  interval = end - start\n",
        "  time_fpG.append(interval)"
      ],
      "execution_count": null,
      "outputs": []
    },
    {
      "cell_type": "code",
      "metadata": {
        "colab": {
          "base_uri": "https://localhost:8080/",
          "height": 295
        },
        "id": "OSHvGIBUNYJ5",
        "outputId": "167740ab-3a5f-421a-870a-cdbaa29d9ed3"
      },
      "source": [
        "#Plot time-sample size plots to compare scalability between the 2 algorithms\n",
        "x = [0.1, 0.2, 0.3] \n",
        "plt.plot(time_size_ratio['Size'], time,\n",
        "         label=\"A-Priori Algorithm\",\n",
        "         color = '#006400')\n",
        "\n",
        "y_fpG = time_fpG\n",
        "plt.plot(x, time_fpG,\n",
        "         label=\"FP-Growth Algorithm\",\n",
        "         color = '#BDB76B')\n",
        "\n",
        "plt.xlabel(\"Sample Size\")\n",
        "plt.ylabel(\"Time in seconds\")\n",
        "plt.title('A-Priori vs Fp-Growth algorithm, th: 0.0003')\n",
        "\n",
        "leg = plt.legend()\n",
        "plt.savefig(\"Apriori vs fp time samplesize\")\n",
        "plt.show()"
      ],
      "execution_count": null,
      "outputs": [
        {
          "output_type": "display_data",
          "data": {
            "image/png": "[encoded data removed]",
            "text/plain": [
              "<Figure size 432x288 with 1 Axes>"
            ]
          },
          "metadata": {
            "tags": [],
            "needs_background": "light"
          }
        }
      ]
    }
  ]
}